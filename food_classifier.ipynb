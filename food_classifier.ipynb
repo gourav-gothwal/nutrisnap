{
 "cells": [
  {
   "cell_type": "code",
   "execution_count": 1,
   "id": "5850c2f8",
   "metadata": {},
   "outputs": [],
   "source": [
    "from torchvision.datasets import Food101\n",
    "from torchvision import transforms\n",
    "from torch.utils.data import DataLoader, Subset\n",
    "import torch \n",
    "import random"
   ]
  },
  {
   "cell_type": "code",
   "execution_count": 3,
   "id": "f1309a7b",
   "metadata": {},
   "outputs": [
    {
     "name": "stderr",
     "output_type": "stream",
     "text": [
      "100.0%\n"
     ]
    }
   ],
   "source": [
    "dataset = Food101(root = './data', download = True, transform = transforms.ToTensor())"
   ]
  },
  {
   "cell_type": "code",
   "execution_count": 4,
   "id": "2b471c91",
   "metadata": {},
   "outputs": [],
   "source": [
    "selected_classes = ['pizza', 'french_fries', 'ice_cream', 'hamburger', 'apple_pie'] "
   ]
  },
  {
   "cell_type": "code",
   "execution_count": 5,
   "id": "37bdbbab",
   "metadata": {},
   "outputs": [],
   "source": [
    "filtered_indices = [i for i, label in enumerate(dataset._labels) if dataset .classes[label] in selected_classes]"
   ]
  },
  {
   "cell_type": "code",
   "execution_count": 6,
   "id": "93f0302c",
   "metadata": {},
   "outputs": [],
   "source": [
    "subset = Subset(dataset, filtered_indices)"
   ]
  },
  {
   "cell_type": "code",
   "execution_count": 7,
   "id": "f294c19d",
   "metadata": {},
   "outputs": [],
   "source": [
    "train_loader = DataLoader(subset, batch_size = 32, shuffle = True)"
   ]
  }
 ],
 "metadata": {
  "kernelspec": {
   "display_name": "Python 3",
   "language": "python",
   "name": "python3"
  },
  "language_info": {
   "codemirror_mode": {
    "name": "ipython",
    "version": 3
   },
   "file_extension": ".py",
   "mimetype": "text/x-python",
   "name": "python",
   "nbconvert_exporter": "python",
   "pygments_lexer": "ipython3",
   "version": "3.13.5"
  }
 },
 "nbformat": 4,
 "nbformat_minor": 5
}
